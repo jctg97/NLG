{
  "nbformat": 4,
  "nbformat_minor": 0,
  "metadata": {
    "colab": {
      "name": "GOT Story Generator.ipynb",
      "version": "0.3.2",
      "provenance": [],
      "collapsed_sections": [],
      "toc_visible": true,
      "include_colab_link": true
    },
    "kernelspec": {
      "name": "python3",
      "display_name": "Python 3"
    },
    "accelerator": "GPU"
  },
  "cells": [
    {
      "cell_type": "markdown",
      "metadata": {
        "id": "view-in-github",
        "colab_type": "text"
      },
      "source": [
        "<a href=\"https://colab.research.google.com/github/jctg97/NLG/blob/master/GOT_Story_Generator.ipynb\" target=\"_parent\"><img src=\"https://colab.research.google.com/assets/colab-badge.svg\" alt=\"Open In Colab\"/></a>"
      ]
    },
    {
      "cell_type": "markdown",
      "metadata": {
        "id": "ovWeaj7O05dI",
        "colab_type": "text"
      },
      "source": [
        "# **Game of Thrones Story Generator**"
      ]
    },
    {
      "cell_type": "markdown",
      "metadata": {
        "id": "0us2wCsc1DFM",
        "colab_type": "text"
      },
      "source": [
        "José Carlos Tollar Gracía"
      ]
    },
    {
      "cell_type": "markdown",
      "metadata": {
        "id": "lRSVxpG41Hf5",
        "colab_type": "text"
      },
      "source": [
        "Source = https://github.com/keras-team/keras/blob/master/examples/lstm_text_generation.py"
      ]
    },
    {
      "cell_type": "code",
      "metadata": {
        "id": "VSkgbgvU2x2g",
        "colab_type": "code",
        "outputId": "fe265f85-ccfe-4ec9-a04e-9b7687e42691",
        "colab": {
          "base_uri": "https://localhost:8080/",
          "height": 34
        }
      },
      "source": [
        "from keras.callbacks import LambdaCallback\n",
        "from keras.models import Sequential\n",
        "from keras.layers import Dense\n",
        "from keras.layers import LSTM\n",
        "from keras.optimizers import RMSprop\n",
        "from keras.utils.data_utils import get_file\n",
        "from google.colab import drive\n",
        "import numpy as np\n",
        "import random\n",
        "import sys\n",
        "import io\n",
        "ReadFromDrive = True"
      ],
      "execution_count": 0,
      "outputs": [
        {
          "output_type": "stream",
          "text": [
            "Using TensorFlow backend.\n"
          ],
          "name": "stderr"
        }
      ]
    },
    {
      "cell_type": "markdown",
      "metadata": {
        "id": "fGm_Gu5D2Oro",
        "colab_type": "text"
      },
      "source": [
        "Read dataset form /content/"
      ]
    },
    {
      "cell_type": "code",
      "metadata": {
        "id": "2rO8n2hWlSKv",
        "colab_type": "code",
        "outputId": "4713bcee-2bb4-4223-9a94-704aef04cc4a",
        "colab": {
          "base_uri": "https://localhost:8080/",
          "height": 34
        }
      },
      "source": [
        "if not ReadFromDrive:\n",
        "  path = \"gameofthrones.txt\"\n",
        "  with io.open(path, encoding='utf-8') as f:\n",
        "      text = f.read().lower()\n",
        "  print('corpus length:', len(text))"
      ],
      "execution_count": 0,
      "outputs": [
        {
          "output_type": "stream",
          "text": [
            "corpus length: 1020562\n"
          ],
          "name": "stdout"
        }
      ]
    },
    {
      "cell_type": "markdown",
      "metadata": {
        "id": "1YMWyi941ova",
        "colab_type": "text"
      },
      "source": [
        "Read dataset from Google Drive"
      ]
    },
    {
      "cell_type": "code",
      "metadata": {
        "id": "BvoM5vQ570H3",
        "colab_type": "code",
        "colab": {}
      },
      "source": [
        "if ReadFromDrive:\n",
        "  drive.mount('/content/gdrive')\n",
        "  path = \"/content/gdrive/My Drive/NLG/gameofthrones.txt\"\n",
        "  with io.open(path, encoding='utf-8') as f:\n",
        "      text = f.read().lower()\n",
        "  print('corpus length:', len(text))"
      ],
      "execution_count": 0,
      "outputs": []
    },
    {
      "cell_type": "code",
      "metadata": {
        "id": "KkOhk_j-UkMj",
        "colab_type": "code",
        "outputId": "2a066fc6-ced2-42f9-f40f-8457d23186fa",
        "colab": {
          "base_uri": "https://localhost:8080/",
          "height": 34
        }
      },
      "source": [
        "#processing data\n",
        "chars = sorted(list(set(text)))\n",
        "print('total chars:', len(chars))\n",
        "char_indices = dict((c, i) for i, c in enumerate(chars))\n",
        "indices_char = dict((i, c) for i, c in enumerate(chars))"
      ],
      "execution_count": 0,
      "outputs": [
        {
          "output_type": "stream",
          "text": [
            "total chars: 43\n"
          ],
          "name": "stdout"
        }
      ]
    },
    {
      "cell_type": "code",
      "metadata": {
        "id": "o9WsMqUKUx9a",
        "colab_type": "code",
        "outputId": "d40a421e-071d-4532-a384-9376a0a92528",
        "colab": {
          "base_uri": "https://localhost:8080/",
          "height": 34
        }
      },
      "source": [
        "# cut the text in semi-redundant sequences of maxlen characters\n",
        "maxlen = 40\n",
        "step = 3\n",
        "sentences = []\n",
        "next_chars = []\n",
        "for i in range(0, len(text) - maxlen, step):\n",
        "    sentences.append(text[i: i + maxlen])\n",
        "    next_chars.append(text[i + maxlen])\n",
        "print('nb sequences:', len(sentences))"
      ],
      "execution_count": 0,
      "outputs": [
        {
          "output_type": "stream",
          "text": [
            "nb sequences: 340174\n"
          ],
          "name": "stdout"
        }
      ]
    },
    {
      "cell_type": "code",
      "metadata": {
        "id": "AqDAL4WkUzi4",
        "colab_type": "code",
        "outputId": "bcab96c9-995a-4212-d862-5e27883ea749",
        "colab": {
          "base_uri": "https://localhost:8080/",
          "height": 34
        }
      },
      "source": [
        "# Vectorization\n",
        "print('Vectorization...')\n",
        "x = np.zeros((len(sentences), maxlen, len(chars)), dtype=np.bool)\n",
        "y = np.zeros((len(sentences), len(chars)), dtype=np.bool)\n",
        "for i, sentence in enumerate(sentences):\n",
        "    for t, char in enumerate(sentence):\n",
        "        x[i, t, char_indices[char]] = 1\n",
        "    y[i, char_indices[next_chars[i]]] = 1"
      ],
      "execution_count": 0,
      "outputs": [
        {
          "output_type": "stream",
          "text": [
            "Vectorization...\n"
          ],
          "name": "stdout"
        }
      ]
    },
    {
      "cell_type": "code",
      "metadata": {
        "id": "ncepL7OBU1v2",
        "colab_type": "code",
        "outputId": "639ac12d-6a4f-41c5-bb8a-55f8d50926fa",
        "colab": {
          "base_uri": "https://localhost:8080/",
          "height": 105
        }
      },
      "source": [
        "# build the model: a single LSTM\n",
        "print('Build model...')\n",
        "model = Sequential()\n",
        "model.add(LSTM(128, input_shape=(maxlen, len(chars))))\n",
        "model.add(Dense(len(chars), activation='softmax'))"
      ],
      "execution_count": 0,
      "outputs": [
        {
          "output_type": "stream",
          "text": [
            "Build model...\n",
            "WARNING:tensorflow:From /usr/local/lib/python3.6/dist-packages/tensorflow/python/framework/op_def_library.py:263: colocate_with (from tensorflow.python.framework.ops) is deprecated and will be removed in a future version.\n",
            "Instructions for updating:\n",
            "Colocations handled automatically by placer.\n"
          ],
          "name": "stdout"
        }
      ]
    },
    {
      "cell_type": "code",
      "metadata": {
        "id": "z8wSKz9iU3eb",
        "colab_type": "code",
        "colab": {}
      },
      "source": [
        "optimizer = RMSprop(lr=0.01)\n",
        "model.compile(loss='categorical_crossentropy', optimizer=optimizer)"
      ],
      "execution_count": 0,
      "outputs": []
    },
    {
      "cell_type": "code",
      "metadata": {
        "id": "nQ3grHDmU6V5",
        "colab_type": "code",
        "colab": {}
      },
      "source": [
        "def sample(preds, temperature=1.0):\n",
        "    # helper function to sample an index from a probability array\n",
        "    preds = np.asarray(preds).astype('float64')\n",
        "    preds = np.log(preds) / temperature\n",
        "    exp_preds = np.exp(preds)\n",
        "    preds = exp_preds / np.sum(exp_preds)\n",
        "    probas = np.random.multinomial(1, preds, 1)\n",
        "    return np.argmax(probas)"
      ],
      "execution_count": 0,
      "outputs": []
    },
    {
      "cell_type": "code",
      "metadata": {
        "id": "SOYujB2gU8vB",
        "colab_type": "code",
        "colab": {}
      },
      "source": [
        "def print_new_story():\n",
        "\n",
        "    start_index = random.randint(0, len(text) - maxlen - 1)\n",
        "    for diversity in [0.3]:\n",
        "        generated = ''\n",
        "        sentence = text[start_index: start_index + maxlen]\n",
        "        generated += sentence\n",
        "        print('----- Generating with seed: \"' + sentence + '\"')\n",
        "        sys.stdout.write(generated)\n",
        "\n",
        "        for i in range(3000):\n",
        "            x_pred = np.zeros((1, maxlen, len(chars)))\n",
        "            for t, char in enumerate(sentence):\n",
        "                x_pred[0, t, char_indices[char]] = 1.\n",
        "\n",
        "            preds = model.predict(x_pred, verbose=0)[0]\n",
        "            next_index = sample(preds, diversity)\n",
        "            next_char = indices_char[next_index]\n",
        "\n",
        "            sentence = sentence[1:] + next_char\n",
        "\n",
        "            sys.stdout.write(next_char)\n",
        "            sys.stdout.flush()\n",
        "        print()"
      ],
      "execution_count": 0,
      "outputs": []
    },
    {
      "cell_type": "code",
      "metadata": {
        "id": "-8ZFo7AqVDui",
        "colab_type": "code",
        "outputId": "d7654e0c-42fc-4e76-e4c9-1cd0b8548ca0",
        "colab": {
          "base_uri": "https://localhost:8080/",
          "height": 2074
        }
      },
      "source": [
        "model.fit(x, y,\n",
        "          batch_size=512,\n",
        "          epochs=60,\n",
        "         )"
      ],
      "execution_count": 0,
      "outputs": [
        {
          "output_type": "stream",
          "text": [
            "Epoch 1/60\n",
            "340174/340174 [==============================] - 40s 117us/step - loss: 1.2056\n",
            "Epoch 2/60\n",
            "340174/340174 [==============================] - 40s 118us/step - loss: 1.2017\n",
            "Epoch 3/60\n",
            "340174/340174 [==============================] - 40s 117us/step - loss: 1.1976\n",
            "Epoch 4/60\n",
            "340174/340174 [==============================] - 39s 114us/step - loss: 1.1960\n",
            "Epoch 5/60\n",
            "340174/340174 [==============================] - 40s 117us/step - loss: 1.1930\n",
            "Epoch 6/60\n",
            "340174/340174 [==============================] - 39s 113us/step - loss: 1.1900\n",
            "Epoch 7/60\n",
            "340174/340174 [==============================] - 40s 117us/step - loss: 1.1881\n",
            "Epoch 8/60\n",
            "340174/340174 [==============================] - 39s 116us/step - loss: 1.1855\n",
            "Epoch 9/60\n",
            "340174/340174 [==============================] - 40s 118us/step - loss: 1.1837\n",
            "Epoch 10/60\n",
            "340174/340174 [==============================] - 40s 118us/step - loss: 1.1811\n",
            "Epoch 11/60\n",
            "340174/340174 [==============================] - 40s 117us/step - loss: 1.1783\n",
            "Epoch 12/60\n",
            "340174/340174 [==============================] - 39s 113us/step - loss: 1.1770\n",
            "Epoch 13/60\n",
            "340174/340174 [==============================] - 40s 117us/step - loss: 1.1751\n",
            "Epoch 14/60\n",
            "340174/340174 [==============================] - 39s 113us/step - loss: 1.1736\n",
            "Epoch 15/60\n",
            "340174/340174 [==============================] - 40s 117us/step - loss: 1.1715\n",
            "Epoch 16/60\n",
            "340174/340174 [==============================] - 39s 115us/step - loss: 1.1688\n",
            "Epoch 17/60\n",
            "340174/340174 [==============================] - 40s 117us/step - loss: 1.1684\n",
            "Epoch 18/60\n",
            "340174/340174 [==============================] - 40s 118us/step - loss: 1.1666\n",
            "Epoch 19/60\n",
            "340174/340174 [==============================] - 40s 117us/step - loss: 1.1646\n",
            "Epoch 20/60\n",
            "340174/340174 [==============================] - 38s 113us/step - loss: 1.1628\n",
            "Epoch 21/60\n",
            "340174/340174 [==============================] - 39s 116us/step - loss: 1.1611\n",
            "Epoch 22/60\n",
            "340174/340174 [==============================] - 39s 114us/step - loss: 1.1591\n",
            "Epoch 23/60\n",
            "340174/340174 [==============================] - 39s 115us/step - loss: 1.1583\n",
            "Epoch 24/60\n",
            "340174/340174 [==============================] - 39s 115us/step - loss: 1.1575\n",
            "Epoch 25/60\n",
            "340174/340174 [==============================] - 39s 113us/step - loss: 1.1562\n",
            "Epoch 26/60\n",
            "340174/340174 [==============================] - 41s 121us/step - loss: 1.1549\n",
            "Epoch 27/60\n",
            "340174/340174 [==============================] - 39s 113us/step - loss: 1.1545\n",
            "Epoch 28/60\n",
            "340174/340174 [==============================] - 40s 117us/step - loss: 1.1524\n",
            "Epoch 29/60\n",
            "340174/340174 [==============================] - 38s 113us/step - loss: 1.1514\n",
            "Epoch 30/60\n",
            "340174/340174 [==============================] - 40s 117us/step - loss: 1.1500\n",
            "Epoch 31/60\n",
            "340174/340174 [==============================] - 39s 115us/step - loss: 1.1499\n",
            "Epoch 32/60\n",
            "340174/340174 [==============================] - 40s 117us/step - loss: 1.1485\n",
            "Epoch 33/60\n",
            "340174/340174 [==============================] - 38s 113us/step - loss: 1.1464\n",
            "Epoch 34/60\n",
            "340174/340174 [==============================] - 41s 120us/step - loss: 1.1458\n",
            "Epoch 35/60\n",
            "340174/340174 [==============================] - 38s 113us/step - loss: 1.1439\n",
            "Epoch 36/60\n",
            "340174/340174 [==============================] - 40s 116us/step - loss: 1.1434\n",
            "Epoch 37/60\n",
            "340174/340174 [==============================] - 38s 111us/step - loss: 1.1426\n",
            "Epoch 38/60\n",
            "340174/340174 [==============================] - 42s 124us/step - loss: 1.1421\n",
            "Epoch 39/60\n",
            "340174/340174 [==============================] - 39s 115us/step - loss: 1.1406\n",
            "Epoch 40/60\n",
            "340174/340174 [==============================] - 40s 116us/step - loss: 1.1399\n",
            "Epoch 41/60\n",
            "340174/340174 [==============================] - 38s 112us/step - loss: 1.1385\n",
            "Epoch 42/60\n",
            "340174/340174 [==============================] - 40s 119us/step - loss: 1.1381\n",
            "Epoch 43/60\n",
            "340174/340174 [==============================] - 38s 112us/step - loss: 1.1377\n",
            "Epoch 44/60\n",
            "340174/340174 [==============================] - 39s 116us/step - loss: 1.1368\n",
            "Epoch 45/60\n",
            "340174/340174 [==============================] - 38s 112us/step - loss: 1.1361\n",
            "Epoch 46/60\n",
            "340174/340174 [==============================] - 39s 116us/step - loss: 1.1349\n",
            "Epoch 47/60\n",
            "340174/340174 [==============================] - 39s 114us/step - loss: 1.1349\n",
            "Epoch 48/60\n",
            "340174/340174 [==============================] - 39s 116us/step - loss: 1.1333\n",
            "Epoch 49/60\n",
            "340174/340174 [==============================] - 38s 112us/step - loss: 1.1330\n",
            "Epoch 50/60\n",
            "340174/340174 [==============================] - 41s 120us/step - loss: 1.1326\n",
            "Epoch 51/60\n",
            "340174/340174 [==============================] - 38s 112us/step - loss: 1.1314\n",
            "Epoch 52/60\n",
            "340174/340174 [==============================] - 39s 115us/step - loss: 1.1305\n",
            "Epoch 53/60\n",
            "340174/340174 [==============================] - 38s 111us/step - loss: 1.1300\n",
            "Epoch 54/60\n",
            "340174/340174 [==============================] - 39s 115us/step - loss: 1.1285\n",
            "Epoch 55/60\n",
            "340174/340174 [==============================] - 39s 114us/step - loss: 1.1277\n",
            "Epoch 56/60\n",
            "340174/340174 [==============================] - 39s 116us/step - loss: 1.1282\n",
            "Epoch 57/60\n",
            "340174/340174 [==============================] - 38s 112us/step - loss: 1.1262\n",
            "Epoch 58/60\n",
            "340174/340174 [==============================] - 41s 120us/step - loss: 1.1261\n",
            "Epoch 59/60\n",
            "340174/340174 [==============================] - 38s 112us/step - loss: 1.1257\n",
            "Epoch 60/60\n",
            "340174/340174 [==============================] - 39s 113us/step - loss: 1.1252\n"
          ],
          "name": "stdout"
        },
        {
          "output_type": "execute_result",
          "data": {
            "text/plain": [
              "<keras.callbacks.History at 0x7f1ebd97b860>"
            ]
          },
          "metadata": {
            "tags": []
          },
          "execution_count": 20
        }
      ]
    },
    {
      "cell_type": "code",
      "metadata": {
        "id": "yusBa-m5cf-B",
        "colab_type": "code",
        "outputId": "8dbb8e2d-738c-4d96-c867-b67c595251e0",
        "colab": {
          "base_uri": "https://localhost:8080/",
          "height": 343
        }
      },
      "source": [
        "print_new_story()"
      ],
      "execution_count": 0,
      "outputs": [
        {
          "output_type": "stream",
          "text": [
            "----- Generating with seed: \"did not know much, but no one could doub\"\n",
            "did not know much, but no one could doubt the wind and ser rodrik was death and sat as they stood at the lordling of the moon and the black or the stories. he was the horsest of the boy and searches and stone and still her brother’s brother with a boy and stood his face of the "
          ],
          "name": "stdout"
        },
        {
          "output_type": "stream",
          "text": [
            "/usr/local/lib/python3.6/dist-packages/ipykernel_launcher.py:4: RuntimeWarning: divide by zero encountered in log\n",
            "  after removing the cwd from sys.path.\n"
          ],
          "name": "stderr"
        },
        {
          "output_type": "stream",
          "text": [
            "shoulders. the day of the stories and stone around him, and the horse brother had been all the stream of the story of the stars, but the stretch of the words were all the moon and still her lips that he was a brother of the stars, his face was a brother of the shot of the long when they were the shon of the shot of the kingsroad. she was a brother of the singer of his head, sansa to his face was a fernaked off a hand on his cloak. “the others were all the moon and still her eyes and starting the bed her brother to the barrow and seemed to see him and could he had been a boy and the stream and spinded his hand. “i was a lannister of the stars,” he said. “when the man was don’t be a brother.” he was a boy and slammed him and still her eyes and still her eyes and stood and stood at his brother’s blood of the stars. “i will not him to be a man in the stars, i stay away you were all the watches of the story of the room to his face and still her brother’s head stone knights and stood and still her life was the boy and the stream of the stories and the godswood, the steel she had been stormed to the starks and stood and speaking the stretch of the stars, and the wall was a boy and sent the wall of the steel. “i will not think they was no one could hear the king’s lance of the story and stopped and smiled. “i will be lord stannis and a moment the man and the others with a thing to the sister, the commander of the realm of the realm and the story of the starks. he had been a hear of the stories of the stretcher. the first of the roof is a boy of the shoulders.”\n",
            "\n",
            "“you are the others were the story with the shoulders. the stream and the sound of the colors, and the stream of the silk of the short of the starts of the courtyard he had been lannister with a stark of the earth. a short of the story was a black brother was story with a smiles of the wall that the stream the wall was a long before his beard and said the stream and slammed the long and the lordling of the stone way as he had been as the boy in the water threw it was a swords to the seven kingdoms of the streets. i will not have helped the stars,” he said. “he was a croodes of the brother of the heart, and the lord stark had no plained at his brothers. “i will not the horsest man would be the council the king’s lang, but the boy was storm’s end to the sound of the stone. the word was a silk of the silk of the crow the butchers and the courtyard of the stretcher of the wall. the boy in the wind and ser alliser’s sword and starting a man was a silk of his face where the castle stroked the story of the water the way her shoulders and the boy with his sister. “i will be the last of the world, the day to her brother, and ser alliser had been stood and her face was a brother with his sword and the story when he was storm’s end to the silk of the stories and the stars, and the stories were close to the septa mordane, the moon was a brother with a scarlet of the stair, but the story stood scarcely fear and the boy to stark of the wall of the first of the stories. “he was the sound of the earth, the boy to him and stood and steel in the stream and stood and sat a man who was a brother of the way and said when the stories could not get the boy of the day to see the stretch of the brother of the steel. “i am the hound the boy to be a man in the wine, and the boy was the butcher and the silk of the stream, and the story stored the stretcher of his brother and the bastards and slashed the long surrow he had been still her head of the stars of the black of the stories. the strengther counced for the door. “the wine was the starks were all the way and still her brother stark when he was a brother of the stars of the lannisters and the septa mormont a ship, and the day was a boy and slashed. “you could be a sword.”\n",
            "\n",
            "“i was a stark,” she said. “the boy was a boy and ser rodrik, and the councillow of the stories who was so spider with his face was a brother with the lordling that the stew will have to stand the wall in the silk of the stars, but the story were like a brother of the house of the wall. it was so many wine had been as they stood his horse and still hell and sent the story when the words cluts even the boy and searche and still her brother of the stories, and so much and stopped and still her hands and still her head and the boy of the stories who heard the brother of the stark was beard and should have thing of the story and stopped his face to stark had been still hell and still help the shoulders, and the seat of the kings of the lannisters and stopped on the swords and a brother and sent the road, and the man was a sword and should hear him and stopped his head. “i didn’t be the stars,” sansa said. “i was a boy of the horsest of the boy and the stews of the story. the realm of the realm of the stars, the brother of the stories was a commands woods of the stories and stood and said the stark thought of the lordling of the stories and still her brother’s beard and still her chance of the bastart and still hell to see the story no few the children was full of the seven kingdoms of the starks. he was a child of the gold of the stories, and the stream the stars were the shot of the heart of the singer in the window where the stretch behind his brother’s boy. “i am that was the stars,” he said. “the horses were this past of the stars,” he said. “i will not have her earth of the realm, the last of the stars of ned through his face stark of the courtyard and still and the steel was a castle and the horses of the story to her eyes. “i shall he hate you are closer than the boy and septa mordane was a more of the boy and still her heart and still her face was a sword of the head of the starks of a heavy brother when they were training at the boy and steel that he had been so started his head and stroked him and slammed the story who he had been agottries and stood off his head. “the blood of the boy of the boy in the wind and sansa to be as they stark will have to see him bear the stretchet of the boy of the shoulders. the steel to the silk of the realm of the should beard to the beat of the stories, and the house stark was the boy in the stars, and the first of her heart of the best of the silk of the stories, and ser alliser had been brother of the stories and the septa said the burned cloak could hear the starks with her feet. the story was the stretcher of a hand of the stories and the starks when they were all the shoulders, she was the starks of the starks of the first to his face with a black breath.\n",
            "\n",
            "“they had no barrids here standing to the silk of the man and her brothers of the bastard that the day the silk of the stream the stars of the lordling of the water the stars of the shoulders. it was the watchens with the moment he was a brother with a strong with a horse, but not the last of the stories and still her house that he was the boy of the earth. “i was a man in the moon, and i should hear you will be more than the steward’s blood of the stories of the roofering of the color of the stream the house was a boy and still help the story and seated to the starks. “i was a boy and the story of yours the stream that the old sons of the realm of the story when he was a boy and searches and storm’s even and still the stretcher of the stories of the silk. he had been some to his feet of the stars, and the stream with his face was dragons, but the story spinser than the stream and still him down the room to her face and stay at his face. “i can be a crimes of him,” she said. “i was a children,” the little man said starting the stories and spat to the silk of the silk of the stories. the great stop had been the party was the stories and still her brother’s below the wall with a smiles of the boy. “the starks were all the watching in the way and the story spanned the window where she was a long and the boy and the black of her face where the steps the butcher of the stars, the brother of the stories were a great through the wall in the short of the stories. “i was the stars,” the look of the silk of the sword shoulders. the steel the shadow her brother had to see him and steel the wall in the way the wine was a long and still her brother’s beard and searches and strong and slow she was a stark of the water the stories and storm’s end to the truth of the shot of the room. “i am standing in the silk of the first years. “you saw them.” he stayed on the free through the water that the horses he had been a face with a sword with a smile. “i will not have helped him the words when the steps were still her eyes and the stretcher of the silk of the earth. “i will be the starks of the others, i can ever sent it and the last of her eyes. “the steel was a man was a man in the same of the stars, and he would have seen him.\n",
            "\n",
            "“there was no one to be a stord with a stark of the realm, the store beside him, and the story steel with a brother with a boy and see her heart the septa to his face starks was a strong and said the septa mormont and the strong armored to the roof. the fat don’t be the starks and count a moment the words the books of the steps that he was the story with a strong through and stood and a child. “the man was a man in the way a silk of the story and storm’s end of the stars, and the man was no one to the fire there that was the stories of the boy to the seven khal to stark. the story stood the stories and stood beneath him.\n",
            "\n",
            "“the boy will be hort to the silk of the world. the word said the first the steps were all the gods of the horsest of the stories, and she was the books and the boy and the story the stretcher of the silk of the silk of the septa mordane and the boy. he was a long before him. he was steel in the stories of the shot of the head of the stair, and the stews of the starks and pulled his hands of the stories of the table in the stories of the swords of the water them and see the stretch of the lannisters with a short of the steel. the stew had been his face was a silk of her brother’s boy. “i was the stone way of the lannisters and the stews of the way and still her horse and speakmen her brother’s boy. “send the stars,” sansa said. “i am no first the moon was a wall of the stone father and stood as they stood and stood her face.\n",
            "\n",
            "“i was the others will her had been as the colors were sansa stroked the story and the words when he was a boy and sent the water of the stars, but the king and stone with a stark of the stream of storry of the stars, and the story spilled his brother stood at the way a hand and still her heart and stood and spiders with a brother of the stories and still her house that seemed to be the boy. “when the wolves you know her earth of the dagger of the story of the riders of the stories of the high as the boy and sent the steel the silk of the singer of his brother. “there was no swords and the stars, and the stew was the story when they were speaking of the stews of the horsest silk of the seven khale is the moment, the words was so the boy and the last of the stories. he was a brother with a stretch of the houses and she had been a belt the story he had been a bastard that he had a hall his beard stood he had been a castle was steel with a smiles and the stews of the silk of the stories. “when the stream the boy and the way and said that he was a boy and sent the silk of the shoulders. the street of the water that he had been so quick as his face was a face that he was the boy and stood and still her heads and still and storm’s end of the stories of the silk of the stars, and the gods of the blood of the silk of the shoulders, and the strength of the door had been so start to the starks of the horsest of the moon and still help him and searches and shoutt the great through the color of the silks of the story. “i don’t want to be a moment the stars,” he said. “he was a strong and she was a long of her eyes. “i am shaking it all to be a horse, i will not reach the stars,” he said. “i thought it was not a man when the man was the honor of the silk of the water of the stories. when the stars were all the commons of the shoulders. he was the story and stords and her brother and she was a sweet sevent of the lannisters and sent the lannisters of the gold of the lannisters. he was a boy and see her heart of the way the king and the stream and stood and still her eyes and stay and stood and she was a boy and sent the stark was a children she had been her brother’s robert of the boy of the stories and starting to the shoulders. the horse and the story who in the west of the kings of the warrings and hall and she had been a city beard and said the first of the stories of crippless and still her head and set all the wall with a stark of the wall and still bear a short of the rapers of the wine. “i was as they stay and stay and the walls of the steps of the stories of the first of the stories of the story of the singer of the stories of the world. the horses had been ride a hand between her face. the street of the houses he had been stood with a wall of the brother of the water, and still her brother was all broad as the steel the last of the story wore a brother with a face that his father had been sons had been as they were all the horses of the words with a horsest of the way her here and seemed to come to the lannisters. the steel had been a crooked him, and sansa was a shivers of the sept of the water that been a sword and the shortables of the lannisters. the steel was a bear the lannisters was a boy and stay and the story was a bear was a boy and spat to the starks. “i was the strong are of the water the words and stopped and sent the lordling of the stars, he had seen them with his face for her heart. the black of the story cluts his fingers and stay and still her face was dragons. the boy is the butcher of the stories and starts and left him and stay and made him been and the starks and stood him. he was a boy and sent him. “i was the boy of the first of the moon and specitate his horse and seemed to be a heavy brother and the seven kingdoms of the house of the boy. he had been close as the stark was stords and still her heart to his hand. the clampious should have seen them, and the story stood bran was the starks of the stars in the wall. the steel was storm, she was the starks and the silk of the first time, and the stretch of the sansa still help the story who dance from the stories and stood so old nan and the stretch of the side of the way and seemed to be a long with an orn there and stood at the door. “i have been a crown, and the steel was a man was done and so start that the horse could have to starve the shadow and still her eyes and still her eyes of the steps of the silk of the shoulders. the should man were all the watches and the story was no one to the wall in the stream. “i was a boy and still be in the pride of the way at the stories and still her heart the godswood, the black or the stone cloak of the singer stark of the storions, and the stew his face stark had come at his face with an ornt of the stars. the steel had been a fast of the wall and slashed off his head. “i can take them to the day of the boy and plunded his face stark. “i thought one of the story of the story of the stone faces and still her with his brother of the stories, and the boy and still her heart of the steel, the moon could be a boy and the story of the wind and stood with a stark of the great cloak. “he was a gift and look at the common story that will have been so still her hand on the back of the shoulders. the first time who heard the brother of the stories of the silk of the shoulders. the words turned to the house colored to him and stay at him, and see her heart and stroked the bran strange and still her heart of the shot she beside him, the words was the stars, and the man was storm’s son that she would declive that he was a croon her heart to the stream. he was a man who was the eyes on his hands of the silver of the stars, he was a boy and stood at the stories and stood to the septa had been a man with a brother of the moon and still her heart the words the sword and still her heart and sent the brother of the stories of the milk. he was a hall the boy with a stretch of the silk of the face where they had to stark he had been sour and counting the story and ride a story of the walls. the story still clean the shoulders and stood and still the face stark strangely the stream and stood to the stream. the starks had been a moment the stark steel the horses he had been so her feet, the stretch of the houses were so starting and sent the free with the story and face and stood and still her brother’s head to stark for the stories, and she was the others were sat on the silk of the wall. he was the starks was a horsest of the words cripping of his shoulders. “the king of the stream the wall is the black and stone and the stretch of the court few of the stories. he was a long wheel he stayed off her house that he was a boy and the scrambles of the first of her horse but the streets had been a silver that he had not hear them and sent the steel and the stream the silk of the story of the wall. he shouted. “the strength of the water with a long with and the steps of the steel. “the man was a few of the stream the stretch of the wall her arms with a long wheel the courtyard men was full of the silk of the rippling of the brother of the brother and sent the steel the brother of the soft sept of the room, he was a horsest of the house of the shoulder than he was a friend the lannisters were like a sicking of the story of the brother of the stretcher. the horses he had been a courtesed the brothers and should he had been a boy and stood and stay at him. “the last of the stars are the wall and the stories of the brother of the houses, the first councillow was a strong that sansa said the proud with a blood of the words and could he seen the stream. the stark was still her eyes and sat as they were all the boy and stood at the first thing they was a boy and sent the long with a scream, he was a brother of the stories and stood and he had been a serving of the stories of the house boy and be so man and sent the stream the brother of the water the wall in the water of the back of the brother of the heart. the steel was a shadow, she was still brother with his brothers that he had been a horsest of the singer of the wall that he was the others and commander and the boy and slammed the courtyard and steel that the boy was as they had been a boy and speak to the day of the stories. “he was the others and stop the shoulders and still her eyes and stood as the story still had deling his head with a smile and still his voice could he had been a fearty of the eyrie. the strong room that he was a long and father than the day to the streets. the stark was steel in the stories of the horses of the stream and stood and the stretch of the way her things and stood the stretcher of the wall of the earth. the boy was a hear that he had been stords to the stars, and the horses for the day of the service of the boy and speakmen his face stark was the stories of the man in the stretch of the shoulders of the stories and storm’s sword and brushed the story strong and sharp and ran to the starks. “i am so much and the lord counter window of the houses he had been a smile and stood and stood and still bearies and seated to the boy. “i shall help him,” ned said. “the man was a boy of the stars,” sansa said. “the steel was a crooke when the boy was still bear the stream. “i can be a story of the house,” said ser alliser stroke as they had to stark for the silk of the brother of the realm. the last of the stretch of the men and grey brought the short of the sept of the lannisters of the stars of the stories, and he had no broken her sound the wall that so men die. she was a warses of the silk of the shoulders. the steel was a strong and counting themselves and fall, his face was a bastard. “i shall he had been sorreat the steps and slashed to her eyes. “i am no doubt the horses he was the man in the silk of the shoulders. “you stay away in the stories,” said somewhere the story stone with and fat the crow stood and still bearies and still her sound his brother and should have seen them with a brother with a thing where the black of the story traveled the stories and the stews of the bastard of the story of the story when they had been strongered the stain. “i can be a drogo of the stream. the wall was a boy and stood and sweet face. she had been stronger and still her eyes and seated to the wall. the hound stood and sent the silk of his head, sansa said, “the silk of the big bear the stream the realm with a brother of the lannisters and the shoulders to the silk of the wall and storm’s end of the stars, and the steel had been a sword and stood to the realm, the story were short of the silk of the short of the world. the street of the eyrie and the words and sent the stars, the king lean to the great of his brother’s brother. “there was no more than that the stars were to be and much and still her eyes and see her heart of the silver of the shoulders and sent the wall in the austlegets of the shoulders. the black of the story was a brother and the story of the stories and stopped and still her eyes and still land to his face and strapged them with a stark of the shoulders and her brother’s boy to stark, and the lannisters were all the stretch of the boy and the mother, and he would have to see him a man and magister illyrion and for the boy in the brother of the shoulders. the words were still the story with the words and stood and some of the shoulder of the stars, and the last of the shot of the sister and still her hand before him, and the council the last of the side of the shoulders. the crow said the story of the horsesting stone face that the brother councillors of the shoulders to see him a story at his face. it was a smile and still her heart to the realm. the stew had been as stone and still her eyes and still her heart of the dagger out of the horsesting with a heavy window of the storions of the crowder. he was a boy and speaking the short of the silk of the wall. “so between the kings of the moment anything to the stone brother, and the stews of the wall was storm’s spilled his great the dagger of the stars, but the boy would have been said the boy to the stews of the starks. “i was a friend in the water the story of the starks. “lord stark was to me and the realm, there was no one to the stars, and the stretch of the courtyard and still her eyes and brushed the short of the water by fat beric and robb. the realm was brother and stood beneath him. “i was a man in the stars,” said her brother and seated the wall that he had been a horsest of the words when they were all the story of the story when he could not hear the words of the boy and coming him to be and still been the moon and road. the watchers were the stars, and the last of the shoulders had been all the realm of the sound to the sans, she had been the stars, most had been his face and still her hands and speciting the far man in his cloak and sword and stood and starting the crowders, and she was a long with a silk of the stark of the stories and should be silk. the stretch of the silk of the stories and stood to the boy. “i am no men all the truth of the stars,” he said. “the wall was a strong horses the boy and the silk of the steps, he was a brother with sansa like the stars, and ser alliser had to starve the shind of the stream and stay at the swords and stupid a hound the big best of the brother of the silk of the golden story of the stretcher. the crow she had been to the stews of the boy with a stark. “the words must have no dragons and stoppy, and the stew was a brother than the moon and sent the water of the stars, but the boy was storm and the moon and the brother and still her hands and stood her head and stood and sent him. he had no broken his hands with a smile and stood at the first of the stars. he had been a swords and staine the horsest of the heart to be and she was a scream the way of his legs of the houses and the stretch of the silk of the water the words to the words when he was a thought of crust of the stone of the lannisters. the clamp of the door was a castle and still been the seven kingdoms of the council thing of the seven kingdoms of the houses as they had been a moment the council through a stark of the roof. they were all that the crow sent the wall with his face with a heavy brother of the silk of the dragon smell of the story. “i was at the starks of the council your son of the house, she was a moment the wind was a strong and stood beneath him. he was a crash of the heart of the shoulders. the story stood so much and still bear stood and still him and stay at the side of the wolf. “the boy was the story to the stables of his hands. the steel had been sworn with a little man in the stories and startid on his brother when he was a stark of the stories of the wall in the eyrie. “i will not hear the story of the moonlight, and if the boy was so dark with his legs were a sweet arms, and the steel had been slamping the lannisters to the story and stood and the silk of the moment and the story she had been a man with the starks, and the man had been could he have a boy and searches and stark with the steps, and he was the butcher were grey cloak and still her house, and the story still had been a bitter of the story and stark, and the boy to him and the starks and fast the steps and stood and the steel the brother of the high of the stars, the black or her face was the silk of a story of the wall that the others were stormed to the sister. “he was a castle of the way here, and the lannisters were still and find her heart of the stair. the room stark was the stream the wall when he was the butcher of the sound of the shoulders. the steel was a bastards and speak. the story still true-bulled in the long spend of the shoulders. the words were still her face was a brother with his face was a brother to the steel him that made of his back of the stories and the mother, and he was a brother with a shive for a story of the silk of the stair, and the story still her brother was a shivers of the silk of the way and stood at the far and stood with a bear the butcher with a boy and sat as they could not be the stark. the steel was ship. the story storted his father stark had been a question the girl with a bear her father and still him and stood at the first of the boy. the others were trailed his head she started the look of the wall of the story and still her heart the brother with his face with a heavy window. “the others steel is a long with the stretcher of the shoulders. it was the burned of the stories, the stream the courtyard off his life off his face. she was a brother of the wall and stood and still her heart the brother with his brother could hear the water of the stories and roar than he started to be a field. “i was arryn is no last of the wall.”\n",
            "\n",
            "“i can be man in the world, and the boy was close and still and steel in the story of the dagger and surely the way a hand was too realized. they were laughing at her stretched off his brother’s brother and the wall in the starks. he had no past the story with the boy to the shadow of the realm around them. “i have been sons of the horse, i will not wine, and the starks was a shivers of the stream and stood at the beards. the lannisters called him and still her heart of the kings of the stories and stords and the stream the wall in the room, the horses he had been stood at the first together that his face was a boy and speaking to his face was a brother in his face was a great beard and still her heart the black brother of the stars, and the silk of the stars of the moon and the stories and the first of her brother’s boy. “i was a great thing of the king’s army. the strong should day said the brothers the boy to the voice of the silk of the steel came and sat on the short of the steel. “stannis and the boy of him, i can he like that the septa did not help him. the butch and stood at the stretcher. the stark stepped over the boy and speaking the water the story and storm’s end of the singer of the courtyard and the realm, and he had not stark. he was a long and the first to a short of the story of the stews, and the day stood he was the boy and still her heart to the starks of the stars, the boy and stood at the story. the stretch of the wall was a boy and still the black stretch of the stars, the boy to the realm was a boy and sent the water to his brothers. he had no broken of the boy and sent them and still been a swords and stroke the seven kingdoms of the silk of the stories and serval, and the street of the seven kingdoms of the boy and began to stark of the wall of the story. he was the butcher of the stars, the common old man in the wall that he was a fast of the stretcher of the wall that he was a brother and sent the first of the story. the street of the lannisters closed as a boy and fallen him and fall of the silk of the dagger out of the wall. the boy was the butcher of the world of the stream and stay at the side of the shoulders. the lannisters call her face was a boy and speaking to the septa mordane with a castle gates, and sansa was the butcher and sent the words and far and some thing of the door. “i was turn the stars,” said the stories of the silk of the wall that he had no horses the stars, and the boy was storm’s eyes and stormed the steel a story of the door. “the stories were still her eyes, and the story was stronger and the stream from the way and the stretched of the b\n"
          ],
          "name": "stdout"
        }
      ]
    }
  ]
}