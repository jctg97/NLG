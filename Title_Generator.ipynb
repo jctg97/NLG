{
  "nbformat": 4,
  "nbformat_minor": 0,
  "metadata": {
    "colab": {
      "name": "Title Generator.ipynb",
      "version": "0.3.2",
      "provenance": [],
      "collapsed_sections": [],
      "include_colab_link": true
    },
    "kernelspec": {
      "name": "python3",
      "display_name": "Python 3"
    }
  },
  "cells": [
    {
      "cell_type": "markdown",
      "metadata": {
        "id": "view-in-github",
        "colab_type": "text"
      },
      "source": [
        "<a href=\"https://colab.research.google.com/github/jctg97/NLG/blob/master/Title_Generator.ipynb\" target=\"_parent\"><img src=\"https://colab.research.google.com/assets/colab-badge.svg\" alt=\"Open In Colab\"/></a>"
      ]
    },
    {
      "cell_type": "markdown",
      "metadata": {
        "id": "-dtOjj5xa-bJ",
        "colab_type": "text"
      },
      "source": [
        "# Title generator\n",
        "José Carlos Tollar Gracía\n",
        "\n"
      ]
    },
    {
      "cell_type": "code",
      "metadata": {
        "id": "78vRNqKaCoXe",
        "colab_type": "code",
        "colab": {}
      },
      "source": [
        "!pip install -q markovify"
      ],
      "execution_count": 0,
      "outputs": []
    },
    {
      "cell_type": "code",
      "metadata": {
        "id": "zN8szn4ABCQG",
        "colab_type": "code",
        "colab": {}
      },
      "source": [
        "import pandas as pd \n",
        "import markovify \n",
        "from google.colab import drive\n",
        "ReadFromDrive = True"
      ],
      "execution_count": 0,
      "outputs": []
    },
    {
      "cell_type": "code",
      "metadata": {
        "id": "p5PyV3j8YEwH",
        "colab_type": "code",
        "colab": {}
      },
      "source": [
        "if not ReadFromDrive:\n",
        "  dataset = pd.read_csv('paytm_com-ecommerce_sample.csv')\n",
        "  print(dataset.name[:10])"
      ],
      "execution_count": 0,
      "outputs": []
    },
    {
      "cell_type": "code",
      "metadata": {
        "id": "jkS0rj5sDCY6",
        "colab_type": "code",
        "outputId": "8fc43398-9038-4d65-acd1-21eb48c9e72a",
        "colab": {
          "base_uri": "https://localhost:8080/",
          "height": 309
        }
      },
      "source": [
        "if ReadFromDrive:\n",
        "  drive.mount('/content/gdrive')\n",
        "  dataset = pd.read_csv('/content/gdrive/My Drive/NLG/paytm_com-ecommerce_sample.csv')\n",
        "  print(dataset.name[:10])"
      ],
      "execution_count": 11,
      "outputs": [
        {
          "output_type": "stream",
          "text": [
            "Go to this URL in a browser: https://accounts.google.com/o/oauth2/auth?client_id=947318989803-6bn6qk8qdgf4n4g3pfee6491hc0brc4i.apps.googleusercontent.com&redirect_uri=urn%3Aietf%3Awg%3Aoauth%3A2.0%3Aoob&scope=email%20https%3A%2F%2Fwww.googleapis.com%2Fauth%2Fdocs.test%20https%3A%2F%2Fwww.googleapis.com%2Fauth%2Fdrive%20https%3A%2F%2Fwww.googleapis.com%2Fauth%2Fdrive.photos.readonly%20https%3A%2F%2Fwww.googleapis.com%2Fauth%2Fpeopleapi.readonly&response_type=code\n",
            "\n",
            "Enter your authorization code:\n",
            "··········\n",
            "Mounted at /content/gdrive\n",
            "0                             C.J.'s Fate\n",
            "1                            Chandrakanta\n",
            "2                          Heart Of Dixie\n",
            "3                            Perfect Life\n",
            "4      Paulo Coelho The Golden Collection\n",
            "5                      The Devil's Banker\n",
            "6                            The Brethren\n",
            "7                            The Innocent\n",
            "8                               True Love\n",
            "9    Warriors: Power of Three #3: Outcast\n",
            "Name: name, dtype: object\n"
          ],
          "name": "stdout"
        }
      ]
    },
    {
      "cell_type": "code",
      "metadata": {
        "id": "YkjwZFnpVegn",
        "colab_type": "code",
        "colab": {}
      },
      "source": [
        "text_model = markovify.NewlineText(dataset.name, state_size = 2)"
      ],
      "execution_count": 0,
      "outputs": []
    },
    {
      "cell_type": "code",
      "metadata": {
        "id": "o-wBfZvPVfbm",
        "colab_type": "code",
        "outputId": "841299c2-f640-4782-e39a-3a11ca28eeab",
        "colab": {
          "base_uri": "https://localhost:8080/",
          "height": 187
        }
      },
      "source": [
        "i=0\n",
        "while i<10:\n",
        "  sentences=text_model.make_sentence()\n",
        "  if sentences != None:\n",
        "    print(sentences)\n",
        "    i+=1"
      ],
      "execution_count": 15,
      "outputs": [
        {
          "output_type": "stream",
          "text": [
            "You'll See It When You Believe It Or Not Eye Popp\n",
            "The Great Leader And The Rise Of America S Secret Government\n",
            "Harry Potter and the chocolate Factory\n",
            "Tidings Of Great Relationships\n",
            "Son Of A King: The Battle For Afghanistan : An Indian Approach To Power\n",
            "The Mystery of the Sith: The Collected Short Stories Of Louis L'amour, Volume 3\n",
            "Never Seduce A Bride\n",
            "Battlefield of the Sky\n",
            "The River And The Prisoner Of My Familiar\n",
            "The Second Book Of Gold Leaves\n"
          ],
          "name": "stdout"
        }
      ]
    }
  ]
}