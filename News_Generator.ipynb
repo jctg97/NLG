{
  "nbformat": 4,
  "nbformat_minor": 0,
  "metadata": {
    "colab": {
      "name": "News Generator.ipynb",
      "version": "0.3.2",
      "provenance": [],
      "collapsed_sections": [],
      "include_colab_link": true
    },
    "kernelspec": {
      "name": "python3",
      "display_name": "Python 3"
    }
  },
  "cells": [
    {
      "cell_type": "markdown",
      "metadata": {
        "id": "view-in-github",
        "colab_type": "text"
      },
      "source": [
        "<a href=\"https://colab.research.google.com/github/jctg97/NLG/blob/master/News_Generator.ipynb\" target=\"_parent\"><img src=\"https://colab.research.google.com/assets/colab-badge.svg\" alt=\"Open In Colab\"/></a>"
      ]
    },
    {
      "cell_type": "markdown",
      "metadata": {
        "id": "Bv5CJCt_c0-J",
        "colab_type": "text"
      },
      "source": [
        "# News generator\n",
        "José Carlos Tollar Gracía\n"
      ]
    },
    {
      "cell_type": "code",
      "metadata": {
        "id": "78vRNqKaCoXe",
        "colab_type": "code",
        "colab": {}
      },
      "source": [
        "!pip install -q markovify"
      ],
      "execution_count": 0,
      "outputs": []
    },
    {
      "cell_type": "code",
      "metadata": {
        "id": "zN8szn4ABCQG",
        "colab_type": "code",
        "colab": {}
      },
      "source": [
        "import pandas as pd \n",
        "import markovify \n",
        "from google.colab import drive\n",
        "ReadFromDrive = True"
      ],
      "execution_count": 0,
      "outputs": []
    },
    {
      "cell_type": "code",
      "metadata": {
        "id": "RToByD6sgdqP",
        "colab_type": "code",
        "colab": {}
      },
      "source": [
        "if not ReadFromDrive:\n",
        "  dataset = pd.read_csv('abcnews-date-text.csv')"
      ],
      "execution_count": 0,
      "outputs": []
    },
    {
      "cell_type": "code",
      "metadata": {
        "id": "jkS0rj5sDCY6",
        "colab_type": "code",
        "outputId": "2fadbdc8-9331-47af-b09c-bfdefe33c2d7",
        "colab": {
          "base_uri": "https://localhost:8080/",
          "height": 221
        }
      },
      "source": [
        "if ReadFromDrive:\n",
        "  drive.mount('/content/gdrive')\n",
        "  dataset = pd.read_csv('/content/gdrive/My Drive/NLG/abcnews-date-text.csv')\n",
        "  print(dataset.headline_text[:10])"
      ],
      "execution_count": 4,
      "outputs": [
        {
          "output_type": "stream",
          "text": [
            "Drive already mounted at /content/gdrive; to attempt to forcibly remount, call drive.mount(\"/content/gdrive\", force_remount=True).\n",
            "0    aba decides against community broadcasting lic...\n",
            "1       act fire witnesses must be aware of defamation\n",
            "2       a g calls for infrastructure protection summit\n",
            "3             air nz staff in aust strike for pay rise\n",
            "4        air nz strike to affect australian travellers\n",
            "5                    ambitious olsson wins triple jump\n",
            "6           antic delighted with record breaking barca\n",
            "7    aussie qualifier stosur wastes four memphis match\n",
            "8         aust addresses un security council over iraq\n",
            "9           australia is locked into war timetable opp\n",
            "Name: headline_text, dtype: object\n"
          ],
          "name": "stdout"
        }
      ]
    },
    {
      "cell_type": "code",
      "metadata": {
        "id": "YkjwZFnpVegn",
        "colab_type": "code",
        "colab": {}
      },
      "source": [
        "text_model = markovify.NewlineText(dataset.headline_text, state_size = 2)"
      ],
      "execution_count": 0,
      "outputs": []
    },
    {
      "cell_type": "code",
      "metadata": {
        "id": "o-wBfZvPVfbm",
        "colab_type": "code",
        "outputId": "fcd5ab45-e393-4b81-ad82-cb28c76a6037",
        "colab": {
          "base_uri": "https://localhost:8080/",
          "height": 187
        }
      },
      "source": [
        "i=0\n",
        "while i<10:\n",
        "  sentences=text_model.make_sentence()\n",
        "  if sentences != None:\n",
        "    print(sentences)\n",
        "    i+=1"
      ],
      "execution_count": 7,
      "outputs": [
        {
          "output_type": "stream",
          "text": [
            "man to face child sex charges in the us pleads guilty\n",
            "poroshenko says ukraine still a long way to go to recover weapons in e timor afp\n",
            "luke foley labor can still win on policies\n",
            "amber harrison ordered to pay legal costs in ritz arcade compo\n",
            "former priest committed to stand trial over child sex charges\n",
            "afl set to make changes to hewitt game\n",
            "beef grower glen morris says there is a mine development delay of\n",
            "skypes tallinn looks to the future with abe\n",
            "qr official to face court over kiesha murder\n",
            "eurobodalla council continues push for new hicks trial\n"
          ],
          "name": "stdout"
        }
      ]
    }
  ]
}